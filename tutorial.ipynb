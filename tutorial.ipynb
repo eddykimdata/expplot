{
 "cells": [
  {
   "cell_type": "code",
   "execution_count": 2,
   "metadata": {},
   "outputs": [
    {
     "name": "stdout",
     "output_type": "stream",
     "text": [
      "Collecting git+https://github.com/eddykimdata/expplot\n",
      "  Cloning https://github.com/eddykimdata/expplot to /private/var/folders/t3/y1mxtssx339g_v761s90rqfc0000gn/T/pip-req-build-6r6yvua9\n",
      "  Running command git clone -q https://github.com/eddykimdata/expplot /private/var/folders/t3/y1mxtssx339g_v761s90rqfc0000gn/T/pip-req-build-6r6yvua9\n",
      "Collecting pandas==1.3.5\n",
      "  Downloading pandas-1.3.5-cp38-cp38-macosx_10_9_x86_64.whl (11.2 MB)\n",
      "\u001b[K     |████████████████████████████████| 11.2 MB 7.4 MB/s eta 0:00:01\n",
      "\u001b[?25hCollecting numpy==1.21.6\n",
      "  Downloading numpy-1.21.6-cp38-cp38-macosx_10_9_x86_64.whl (16.9 MB)\n",
      "\u001b[K     |████████████████████████████████| 16.9 MB 2.4 MB/s eta 0:00:01\n",
      "\u001b[?25hCollecting matplotlib==3.5.1\n",
      "  Downloading matplotlib-3.5.1-cp38-cp38-macosx_10_9_x86_64.whl (7.3 MB)\n",
      "\u001b[K     |████████████████████████████████| 7.3 MB 26.6 MB/s eta 0:00:01\n",
      "\u001b[?25hRequirement already satisfied: seaborn==0.12.1 in /Library/Frameworks/Python.framework/Versions/3.8/lib/python3.8/site-packages (from expplot==0.1.0) (0.12.1)\n",
      "Collecting scipy==1.6.0\n",
      "  Using cached scipy-1.6.0-cp38-cp38-macosx_10_9_x86_64.whl (30.7 MB)\n",
      "Requirement already satisfied: pytz>=2017.3 in /Library/Frameworks/Python.framework/Versions/3.8/lib/python3.8/site-packages (from pandas==1.3.5->expplot==0.1.0) (2022.1)\n",
      "Requirement already satisfied: python-dateutil>=2.7.3 in /Library/Frameworks/Python.framework/Versions/3.8/lib/python3.8/site-packages (from pandas==1.3.5->expplot==0.1.0) (2.8.1)\n",
      "Requirement already satisfied: pyparsing>=2.2.1 in /Library/Frameworks/Python.framework/Versions/3.8/lib/python3.8/site-packages (from matplotlib==3.5.1->expplot==0.1.0) (2.4.7)\n",
      "Requirement already satisfied: packaging>=20.0 in /Library/Frameworks/Python.framework/Versions/3.8/lib/python3.8/site-packages (from matplotlib==3.5.1->expplot==0.1.0) (21.3)\n",
      "Requirement already satisfied: fonttools>=4.22.0 in /Library/Frameworks/Python.framework/Versions/3.8/lib/python3.8/site-packages (from matplotlib==3.5.1->expplot==0.1.0) (4.38.0)\n",
      "Requirement already satisfied: kiwisolver>=1.0.1 in /Library/Frameworks/Python.framework/Versions/3.8/lib/python3.8/site-packages (from matplotlib==3.5.1->expplot==0.1.0) (1.4.4)\n",
      "Requirement already satisfied: cycler>=0.10 in /Library/Frameworks/Python.framework/Versions/3.8/lib/python3.8/site-packages (from matplotlib==3.5.1->expplot==0.1.0) (0.11.0)\n",
      "Requirement already satisfied: pillow>=6.2.0 in /Library/Frameworks/Python.framework/Versions/3.8/lib/python3.8/site-packages (from matplotlib==3.5.1->expplot==0.1.0) (9.3.0)\n",
      "Requirement already satisfied: six>=1.5 in /Library/Frameworks/Python.framework/Versions/3.8/lib/python3.8/site-packages (from python-dateutil>=2.7.3->pandas==1.3.5->expplot==0.1.0) (1.15.0)\n",
      "Building wheels for collected packages: expplot\n",
      "  Building wheel for expplot (setup.py) ... \u001b[?25ldone\n",
      "\u001b[?25h  Created wheel for expplot: filename=expplot-0.1.0-py3-none-any.whl size=7077 sha256=f04bc001341f09783a34297f2afdf64a855a98ce694365c7cefcfe575ab3ce21\n",
      "  Stored in directory: /private/var/folders/t3/y1mxtssx339g_v761s90rqfc0000gn/T/pip-ephem-wheel-cache-w3509vrq/wheels/4f/ca/37/e8407359a693cda4d0ed40652e4c807426d83ef34eb070b461\n",
      "Successfully built expplot\n",
      "\u001b[31mERROR: eviz 0.1.0 has requirement matplotlib==3.6.2, but you'll have matplotlib 3.5.1 which is incompatible.\u001b[0m\n",
      "\u001b[31mERROR: eviz 0.1.0 has requirement numpy==1.22.0, but you'll have numpy 1.21.6 which is incompatible.\u001b[0m\n",
      "\u001b[31mERROR: eviz 0.1.0 has requirement pandas==1.5.1, but you'll have pandas 1.3.5 which is incompatible.\u001b[0m\n",
      "Installing collected packages: numpy, pandas, matplotlib, scipy, expplot\n",
      "  Attempting uninstall: numpy\n",
      "    Found existing installation: numpy 1.22.0\n",
      "    Uninstalling numpy-1.22.0:\n",
      "      Successfully uninstalled numpy-1.22.0\n",
      "  Attempting uninstall: pandas\n",
      "    Found existing installation: pandas 1.5.1\n",
      "    Uninstalling pandas-1.5.1:\n",
      "      Successfully uninstalled pandas-1.5.1\n",
      "  Attempting uninstall: matplotlib\n",
      "    Found existing installation: matplotlib 3.6.2\n",
      "    Uninstalling matplotlib-3.6.2:\n",
      "      Successfully uninstalled matplotlib-3.6.2\n",
      "  Attempting uninstall: scipy\n",
      "    Found existing installation: scipy 1.8.1\n",
      "    Uninstalling scipy-1.8.1:\n",
      "      Successfully uninstalled scipy-1.8.1\n",
      "Successfully installed expplot-0.1.0 matplotlib-3.5.1 numpy-1.21.6 pandas-1.3.5 scipy-1.6.0\n",
      "\u001b[33mWARNING: You are using pip version 20.1.1; however, version 22.3.1 is available.\n",
      "You should consider upgrading via the '/Library/Frameworks/Python.framework/Versions/3.8/bin/python3.8 -m pip install --upgrade pip' command.\u001b[0m\n"
     ]
    }
   ],
   "source": [
    "!pip3 install git+https://github.com/eddykimdata/expplot"
   ]
  },
  {
   "cell_type": "code",
   "execution_count": 1,
   "metadata": {},
   "outputs": [],
   "source": [
    "import pandas as pd\n",
    "import numpy as np\n",
    "from expplot import expplot"
   ]
  },
  {
   "cell_type": "code",
   "execution_count": 3,
   "metadata": {},
   "outputs": [],
   "source": [
    "import expplot"
   ]
  },
  {
   "cell_type": "code",
   "execution_count": null,
   "metadata": {},
   "outputs": [],
   "source": []
  }
 ],
 "metadata": {
  "kernelspec": {
   "display_name": "venv_expplot",
   "language": "python",
   "name": "venv_expplot"
  },
  "language_info": {
   "codemirror_mode": {
    "name": "ipython",
    "version": 3
   },
   "file_extension": ".py",
   "mimetype": "text/x-python",
   "name": "python",
   "nbconvert_exporter": "python",
   "pygments_lexer": "ipython3",
   "version": "3.8.3"
  }
 },
 "nbformat": 4,
 "nbformat_minor": 4
}
