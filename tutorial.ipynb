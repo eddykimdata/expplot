{
 "cells": [
  {
   "cell_type": "code",
   "execution_count": 1,
   "metadata": {
    "collapsed": true,
    "jupyter": {
     "outputs_hidden": true
    }
   },
   "outputs": [
    {
     "name": "stdout",
     "output_type": "stream",
     "text": [
      "Collecting git+https://github.com/eddykimdata/eviz\n",
      "  Cloning https://github.com/eddykimdata/eviz to /private/var/folders/t3/y1mxtssx339g_v761s90rqfc0000gn/T/pip-req-build-64dsfhf3\n",
      "  Running command git clone -q https://github.com/eddykimdata/eviz /private/var/folders/t3/y1mxtssx339g_v761s90rqfc0000gn/T/pip-req-build-64dsfhf3\n",
      "Requirement already satisfied: pandas==1.5.1 in /Library/Frameworks/Python.framework/Versions/3.8/lib/python3.8/site-packages (from eviz==0.1.0) (1.5.1)\n",
      "Collecting numpy==1.22.0\n",
      "  Downloading numpy-1.22.0-cp38-cp38-macosx_10_9_x86_64.whl (17.6 MB)\n",
      "\u001b[K     |████████████████████████████████| 17.6 MB 5.9 MB/s eta 0:00:01\n",
      "\u001b[?25hRequirement already satisfied: matplotlib==3.6.2 in /Library/Frameworks/Python.framework/Versions/3.8/lib/python3.8/site-packages (from eviz==0.1.0) (3.6.2)\n",
      "Requirement already satisfied: seaborn==0.12.1 in /Library/Frameworks/Python.framework/Versions/3.8/lib/python3.8/site-packages (from eviz==0.1.0) (0.12.1)\n",
      "Requirement already satisfied: python-dateutil>=2.8.1 in /Library/Frameworks/Python.framework/Versions/3.8/lib/python3.8/site-packages (from pandas==1.5.1->eviz==0.1.0) (2.8.1)\n",
      "Requirement already satisfied: pytz>=2020.1 in /Library/Frameworks/Python.framework/Versions/3.8/lib/python3.8/site-packages (from pandas==1.5.1->eviz==0.1.0) (2022.1)\n",
      "Requirement already satisfied: fonttools>=4.22.0 in /Library/Frameworks/Python.framework/Versions/3.8/lib/python3.8/site-packages (from matplotlib==3.6.2->eviz==0.1.0) (4.38.0)\n",
      "Requirement already satisfied: packaging>=20.0 in /Library/Frameworks/Python.framework/Versions/3.8/lib/python3.8/site-packages (from matplotlib==3.6.2->eviz==0.1.0) (21.3)\n",
      "Requirement already satisfied: cycler>=0.10 in /Library/Frameworks/Python.framework/Versions/3.8/lib/python3.8/site-packages (from matplotlib==3.6.2->eviz==0.1.0) (0.11.0)\n",
      "Requirement already satisfied: pyparsing>=2.2.1 in /Library/Frameworks/Python.framework/Versions/3.8/lib/python3.8/site-packages (from matplotlib==3.6.2->eviz==0.1.0) (2.4.7)\n",
      "Requirement already satisfied: contourpy>=1.0.1 in /Library/Frameworks/Python.framework/Versions/3.8/lib/python3.8/site-packages (from matplotlib==3.6.2->eviz==0.1.0) (1.0.6)\n",
      "Requirement already satisfied: kiwisolver>=1.0.1 in /Library/Frameworks/Python.framework/Versions/3.8/lib/python3.8/site-packages (from matplotlib==3.6.2->eviz==0.1.0) (1.4.4)\n",
      "Requirement already satisfied: pillow>=6.2.0 in /Library/Frameworks/Python.framework/Versions/3.8/lib/python3.8/site-packages (from matplotlib==3.6.2->eviz==0.1.0) (9.3.0)\n",
      "Requirement already satisfied: six>=1.5 in /Library/Frameworks/Python.framework/Versions/3.8/lib/python3.8/site-packages (from python-dateutil>=2.8.1->pandas==1.5.1->eviz==0.1.0) (1.15.0)\n",
      "Building wheels for collected packages: eviz\n",
      "  Building wheel for eviz (setup.py) ... \u001b[?25ldone\n",
      "\u001b[?25h  Created wheel for eviz: filename=eviz-0.1.0-py3-none-any.whl size=9792 sha256=6bc279383007eb4cbd7615c6d6f54db3c10456b473d43f97589c063dd428acef\n",
      "  Stored in directory: /private/var/folders/t3/y1mxtssx339g_v761s90rqfc0000gn/T/pip-ephem-wheel-cache-kdtvri67/wheels/e8/bf/ad/11e6bacc7566a390f509898e632a5e7a1dfeb023e60e882bfc\n",
      "Successfully built eviz\n",
      "Installing collected packages: numpy, eviz\n",
      "  Attempting uninstall: numpy\n",
      "    Found existing installation: numpy 1.23.4\n",
      "    Uninstalling numpy-1.23.4:\n",
      "      Successfully uninstalled numpy-1.23.4\n",
      "Successfully installed eviz-0.1.0 numpy-1.22.0\n",
      "\u001b[33mWARNING: You are using pip version 20.1.1; however, version 22.3.1 is available.\n",
      "You should consider upgrading via the '/Library/Frameworks/Python.framework/Versions/3.8/bin/python3.8 -m pip install --upgrade pip' command.\u001b[0m\n"
     ]
    }
   ],
   "source": [
    "!pip3 install git+https://github.com/eddykimdata/eviz"
   ]
  },
  {
   "cell_type": "code",
   "execution_count": 1,
   "metadata": {},
   "outputs": [],
   "source": [
    "import pandas as pd\n",
    "import numpy as np\n",
    "# from eviz import eviz"
   ]
  },
  {
   "cell_type": "code",
   "execution_count": null,
   "metadata": {},
   "outputs": [],
   "source": []
  }
 ],
 "metadata": {
  "kernelspec": {
   "display_name": "venv_expplot",
   "language": "python",
   "name": "venv_expplot"
  },
  "language_info": {
   "codemirror_mode": {
    "name": "ipython",
    "version": 3
   },
   "file_extension": ".py",
   "mimetype": "text/x-python",
   "name": "python",
   "nbconvert_exporter": "python",
   "pygments_lexer": "ipython3",
   "version": "3.8.3"
  }
 },
 "nbformat": 4,
 "nbformat_minor": 4
}
