{
 "cells": [
  {
   "cell_type": "code",
   "execution_count": 6,
   "metadata": {},
   "outputs": [
    {
     "name": "stdout",
     "output_type": "stream",
     "text": [
      "Collecting git+https://github.com/eddykimdata/expplot\n",
      "  Cloning https://github.com/eddykimdata/expplot to /private/var/folders/t3/y1mxtssx339g_v761s90rqfc0000gn/T/pip-req-build-yxml63n3\n",
      "  Running command git clone -q https://github.com/eddykimdata/expplot /private/var/folders/t3/y1mxtssx339g_v761s90rqfc0000gn/T/pip-req-build-yxml63n3\n",
      "Requirement already satisfied (use --upgrade to upgrade): expplot==0.1.0 from git+https://github.com/eddykimdata/expplot in /Library/Frameworks/Python.framework/Versions/3.8/lib/python3.8/site-packages\n",
      "Requirement already satisfied: pandas==1.3.5 in /Library/Frameworks/Python.framework/Versions/3.8/lib/python3.8/site-packages (from expplot==0.1.0) (1.3.5)\n",
      "Requirement already satisfied: numpy==1.21.6 in /Library/Frameworks/Python.framework/Versions/3.8/lib/python3.8/site-packages (from expplot==0.1.0) (1.21.6)\n",
      "Requirement already satisfied: matplotlib==3.5.1 in /Library/Frameworks/Python.framework/Versions/3.8/lib/python3.8/site-packages (from expplot==0.1.0) (3.5.1)\n",
      "Requirement already satisfied: seaborn==0.12.1 in /Library/Frameworks/Python.framework/Versions/3.8/lib/python3.8/site-packages (from expplot==0.1.0) (0.12.1)\n",
      "Requirement already satisfied: scipy==1.6.0 in /Library/Frameworks/Python.framework/Versions/3.8/lib/python3.8/site-packages (from expplot==0.1.0) (1.6.0)\n",
      "Requirement already satisfied: python-dateutil>=2.7.3 in /Library/Frameworks/Python.framework/Versions/3.8/lib/python3.8/site-packages (from pandas==1.3.5->expplot==0.1.0) (2.8.1)\n",
      "Requirement already satisfied: pytz>=2017.3 in /Library/Frameworks/Python.framework/Versions/3.8/lib/python3.8/site-packages (from pandas==1.3.5->expplot==0.1.0) (2022.1)\n",
      "Requirement already satisfied: kiwisolver>=1.0.1 in /Library/Frameworks/Python.framework/Versions/3.8/lib/python3.8/site-packages (from matplotlib==3.5.1->expplot==0.1.0) (1.4.4)\n",
      "Requirement already satisfied: cycler>=0.10 in /Library/Frameworks/Python.framework/Versions/3.8/lib/python3.8/site-packages (from matplotlib==3.5.1->expplot==0.1.0) (0.11.0)\n",
      "Requirement already satisfied: packaging>=20.0 in /Library/Frameworks/Python.framework/Versions/3.8/lib/python3.8/site-packages (from matplotlib==3.5.1->expplot==0.1.0) (21.3)\n",
      "Requirement already satisfied: pillow>=6.2.0 in /Library/Frameworks/Python.framework/Versions/3.8/lib/python3.8/site-packages (from matplotlib==3.5.1->expplot==0.1.0) (9.3.0)\n",
      "Requirement already satisfied: fonttools>=4.22.0 in /Library/Frameworks/Python.framework/Versions/3.8/lib/python3.8/site-packages (from matplotlib==3.5.1->expplot==0.1.0) (4.38.0)\n",
      "Requirement already satisfied: pyparsing>=2.2.1 in /Library/Frameworks/Python.framework/Versions/3.8/lib/python3.8/site-packages (from matplotlib==3.5.1->expplot==0.1.0) (2.4.7)\n",
      "Requirement already satisfied: six>=1.5 in /Library/Frameworks/Python.framework/Versions/3.8/lib/python3.8/site-packages (from python-dateutil>=2.7.3->pandas==1.3.5->expplot==0.1.0) (1.15.0)\n",
      "Building wheels for collected packages: expplot\n",
      "  Building wheel for expplot (setup.py) ... \u001b[?25ldone\n",
      "\u001b[?25h  Created wheel for expplot: filename=expplot-0.1.0-py3-none-any.whl size=7045 sha256=135ea3bf083a2c318e09ba5bd0b2c410626cf70903541e36c6452dee949aa1f6\n",
      "  Stored in directory: /private/var/folders/t3/y1mxtssx339g_v761s90rqfc0000gn/T/pip-ephem-wheel-cache-la020rko/wheels/4f/ca/37/e8407359a693cda4d0ed40652e4c807426d83ef34eb070b461\n",
      "Successfully built expplot\n",
      "\u001b[33mWARNING: You are using pip version 20.1.1; however, version 22.3.1 is available.\n",
      "You should consider upgrading via the '/Library/Frameworks/Python.framework/Versions/3.8/bin/python3.8 -m pip install --upgrade pip' command.\u001b[0m\n"
     ]
    }
   ],
   "source": [
    "!pip3 install git+https://github.com/eddykimdata/expplot"
   ]
  },
  {
   "cell_type": "code",
   "execution_count": 7,
   "metadata": {},
   "outputs": [],
   "source": [
    "import pandas as pd\n",
    "import numpy as np\n",
    "from expplot import expplot"
   ]
  },
  {
   "cell_type": "code",
   "execution_count": 19,
   "metadata": {},
   "outputs": [
    {
     "data": {
      "text/html": [
       "<div>\n",
       "<style scoped>\n",
       "    .dataframe tbody tr th:only-of-type {\n",
       "        vertical-align: middle;\n",
       "    }\n",
       "\n",
       "    .dataframe tbody tr th {\n",
       "        vertical-align: top;\n",
       "    }\n",
       "\n",
       "    .dataframe thead th {\n",
       "        text-align: right;\n",
       "    }\n",
       "</style>\n",
       "<table border=\"1\" class=\"dataframe\">\n",
       "  <thead>\n",
       "    <tr style=\"text-align: right;\">\n",
       "      <th></th>\n",
       "      <th>metric</th>\n",
       "      <th>dimension</th>\n",
       "      <th>mean</th>\n",
       "      <th>std</th>\n",
       "      <th>n</th>\n",
       "      <th>alpha</th>\n",
       "      <th>success_side</th>\n",
       "    </tr>\n",
       "  </thead>\n",
       "  <tbody>\n",
       "    <tr>\n",
       "      <th>0</th>\n",
       "      <td>CTR</td>\n",
       "      <td>control</td>\n",
       "      <td>0.52</td>\n",
       "      <td>0.50</td>\n",
       "      <td>2500</td>\n",
       "      <td>0.05</td>\n",
       "      <td>positive</td>\n",
       "    </tr>\n",
       "    <tr>\n",
       "      <th>1</th>\n",
       "      <td>CTR</td>\n",
       "      <td>Algorithm 1</td>\n",
       "      <td>0.53</td>\n",
       "      <td>0.01</td>\n",
       "      <td>3500</td>\n",
       "      <td>0.05</td>\n",
       "      <td>positive</td>\n",
       "    </tr>\n",
       "    <tr>\n",
       "      <th>2</th>\n",
       "      <td>CTR</td>\n",
       "      <td>Algorithm 2</td>\n",
       "      <td>0.47</td>\n",
       "      <td>0.02</td>\n",
       "      <td>2000</td>\n",
       "      <td>0.05</td>\n",
       "      <td>positive</td>\n",
       "    </tr>\n",
       "    <tr>\n",
       "      <th>3</th>\n",
       "      <td>ECTR</td>\n",
       "      <td>control</td>\n",
       "      <td>0.25</td>\n",
       "      <td>0.02</td>\n",
       "      <td>2500</td>\n",
       "      <td>0.05</td>\n",
       "      <td>positive</td>\n",
       "    </tr>\n",
       "    <tr>\n",
       "      <th>4</th>\n",
       "      <td>ECTR</td>\n",
       "      <td>Algorithm 1</td>\n",
       "      <td>0.35</td>\n",
       "      <td>0.05</td>\n",
       "      <td>3500</td>\n",
       "      <td>0.05</td>\n",
       "      <td>positive</td>\n",
       "    </tr>\n",
       "    <tr>\n",
       "      <th>5</th>\n",
       "      <td>ECTR</td>\n",
       "      <td>Algorithm 2</td>\n",
       "      <td>0.33</td>\n",
       "      <td>0.15</td>\n",
       "      <td>2000</td>\n",
       "      <td>0.05</td>\n",
       "      <td>positive</td>\n",
       "    </tr>\n",
       "    <tr>\n",
       "      <th>6</th>\n",
       "      <td>Video play failures</td>\n",
       "      <td>control</td>\n",
       "      <td>5.40</td>\n",
       "      <td>2.80</td>\n",
       "      <td>2500</td>\n",
       "      <td>0.05</td>\n",
       "      <td>negative</td>\n",
       "    </tr>\n",
       "    <tr>\n",
       "      <th>7</th>\n",
       "      <td>Video play failures</td>\n",
       "      <td>Algorithm 1</td>\n",
       "      <td>4.80</td>\n",
       "      <td>1.50</td>\n",
       "      <td>3500</td>\n",
       "      <td>0.05</td>\n",
       "      <td>negative</td>\n",
       "    </tr>\n",
       "    <tr>\n",
       "      <th>8</th>\n",
       "      <td>Video play failures</td>\n",
       "      <td>Algorithm 2</td>\n",
       "      <td>3.50</td>\n",
       "      <td>1.60</td>\n",
       "      <td>2000</td>\n",
       "      <td>0.05</td>\n",
       "      <td>negative</td>\n",
       "    </tr>\n",
       "  </tbody>\n",
       "</table>\n",
       "</div>"
      ],
      "text/plain": [
       "                metric    dimension  mean   std     n  alpha success_side\n",
       "0                  CTR      control  0.52  0.50  2500   0.05     positive\n",
       "1                  CTR  Algorithm 1  0.53  0.01  3500   0.05     positive\n",
       "2                  CTR  Algorithm 2  0.47  0.02  2000   0.05     positive\n",
       "3                 ECTR      control  0.25  0.02  2500   0.05     positive\n",
       "4                 ECTR  Algorithm 1  0.35  0.05  3500   0.05     positive\n",
       "5                 ECTR  Algorithm 2  0.33  0.15  2000   0.05     positive\n",
       "6  Video play failures      control  5.40  2.80  2500   0.05     negative\n",
       "7  Video play failures  Algorithm 1  4.80  1.50  3500   0.05     negative\n",
       "8  Video play failures  Algorithm 2  3.50  1.60  2000   0.05     negative"
      ]
     },
     "execution_count": 19,
     "metadata": {},
     "output_type": "execute_result"
    }
   ],
   "source": [
    "dexp_example_dataframe = pd.DataFrame({\n",
    "    'metric':['CTR']*3 + ['ECTR']*3 + ['Video play failures']*3,\n",
    "    'dimension':['control', 'Algorithm 1', 'Algorithm 2']*3,\n",
    "    'mean':[0.52, 0.53, 0.47, 0.25, 0.35, 0.33, 5.4, 4.8, 3.5],\n",
    "    'std':[0.5, 0.01, 0.02, 0.02, 0.05, 0.15, 2.8, 1.5, 1.6],\n",
    "    'n': [2500, 3500, 2000, 2500, 3500, 2000, 2500, 3500, 2000],\n",
    "    'alpha': [0.05]*3*3,\n",
    "    'success_side': ['positive']*3*2 + ['negative']*3\n",
    "})\n",
    "dexp_example_dataframe"
   ]
  },
  {
   "cell_type": "code",
   "execution_count": 21,
   "metadata": {},
   "outputs": [
    {
     "name": "stderr",
     "output_type": "stream",
     "text": [
      "/Users/edwardkim/Documents/jupyter/expplot_module/expplot/expplot.py:388: UserWarning: FixedFormatter should only be used together with FixedLocator\n",
      "  ax.set_xticklabels([xtick_format.format(x) for x in ax.get_xticks()])\n"
     ]
    },
    {
     "data": {
      "image/png": "[encoded data removed]",
      "text/plain": [
       "<Figure size 600x320 with 3 Axes>"
      ]
     },
     "metadata": {},
     "output_type": "display_data"
    }
   ],
   "source": [
    "fig, ax = expplot.plot_lift(\n",
    "    dexp_example_dataframe, \n",
    "    title='EMEA Recommended For You experiment',\n",
    "    combine_axes=False,\n",
    "    lift_type='relative', \n",
    "    as_percent=True)"
   ]
  },
  {
   "cell_type": "code",
   "execution_count": null,
   "metadata": {},
   "outputs": [],
   "source": []
  }
 ],
 "metadata": {
  "kernelspec": {
   "display_name": "venv_expplot",
   "language": "python",
   "name": "venv_expplot"
  },
  "language_info": {
   "codemirror_mode": {
    "name": "ipython",
    "version": 3
   },
   "file_extension": ".py",
   "mimetype": "text/x-python",
   "name": "python",
   "nbconvert_exporter": "python",
   "pygments_lexer": "ipython3",
   "version": "3.8.3"
  }
 },
 "nbformat": 4,
 "nbformat_minor": 4
}
